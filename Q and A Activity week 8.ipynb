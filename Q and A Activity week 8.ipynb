{
 "cells": [
  {
   "cell_type": "code",
   "execution_count": 3,
   "id": "7d04d308",
   "metadata": {},
   "outputs": [],
   "source": [
    "import numpy as np\n",
    "import pandas as pd\n",
    "import matplotlib.pyplot as plt\n",
    "import seaborn as sns"
   ]
  },
  {
   "cell_type": "code",
   "execution_count": 4,
   "id": "06b9ab70",
   "metadata": {},
   "outputs": [],
   "source": [
    "data=pd.read_csv('Week_8_Q&A.csv')"
   ]
  },
  {
   "cell_type": "code",
   "execution_count": 24,
   "id": "2df04673",
   "metadata": {},
   "outputs": [
    {
     "data": {
      "text/html": [
       "<div>\n",
       "<style scoped>\n",
       "    .dataframe tbody tr th:only-of-type {\n",
       "        vertical-align: middle;\n",
       "    }\n",
       "\n",
       "    .dataframe tbody tr th {\n",
       "        vertical-align: top;\n",
       "    }\n",
       "\n",
       "    .dataframe thead th {\n",
       "        text-align: right;\n",
       "    }\n",
       "</style>\n",
       "<table border=\"1\" class=\"dataframe\">\n",
       "  <thead>\n",
       "    <tr style=\"text-align: right;\">\n",
       "      <th></th>\n",
       "      <th>Gender</th>\n",
       "      <th>Test preparation</th>\n",
       "      <th>Total Marks</th>\n",
       "    </tr>\n",
       "  </thead>\n",
       "  <tbody>\n",
       "    <tr>\n",
       "      <th>0</th>\n",
       "      <td>male</td>\n",
       "      <td>none</td>\n",
       "      <td>14</td>\n",
       "    </tr>\n",
       "    <tr>\n",
       "      <th>1</th>\n",
       "      <td>female</td>\n",
       "      <td>none</td>\n",
       "      <td>28</td>\n",
       "    </tr>\n",
       "    <tr>\n",
       "      <th>2</th>\n",
       "      <td>female</td>\n",
       "      <td>none</td>\n",
       "      <td>18</td>\n",
       "    </tr>\n",
       "    <tr>\n",
       "      <th>3</th>\n",
       "      <td>female</td>\n",
       "      <td>none</td>\n",
       "      <td>48</td>\n",
       "    </tr>\n",
       "    <tr>\n",
       "      <th>4</th>\n",
       "      <td>female</td>\n",
       "      <td>none</td>\n",
       "      <td>21</td>\n",
       "    </tr>\n",
       "  </tbody>\n",
       "</table>\n",
       "</div>"
      ],
      "text/plain": [
       "   Gender Test preparation  Total Marks\n",
       "0    male             none           14\n",
       "1  female             none           28\n",
       "2  female             none           18\n",
       "3  female             none           48\n",
       "4  female             none           21"
      ]
     },
     "execution_count": 24,
     "metadata": {},
     "output_type": "execute_result"
    }
   ],
   "source": [
    " data.head()"
   ]
  },
  {
   "cell_type": "markdown",
   "id": "56bdaec7",
   "metadata": {},
   "source": [
    "1.Descriptive Analysis"
   ]
  },
  {
   "cell_type": "markdown",
   "id": "6e0d3f8a",
   "metadata": {},
   "source": [
    " Histogram"
   ]
  },
  {
   "cell_type": "code",
   "execution_count": 4,
   "id": "ff3f6f53",
   "metadata": {},
   "outputs": [
    {
     "data": {
      "text/plain": [
       "(array([ 0.,  2.,  4.,  6.,  8., 10., 12., 14., 16., 18.]),\n",
       " [Text(0, 0, ''),\n",
       "  Text(0, 0, ''),\n",
       "  Text(0, 0, ''),\n",
       "  Text(0, 0, ''),\n",
       "  Text(0, 0, ''),\n",
       "  Text(0, 0, ''),\n",
       "  Text(0, 0, ''),\n",
       "  Text(0, 0, ''),\n",
       "  Text(0, 0, ''),\n",
       "  Text(0, 0, '')])"
      ]
     },
     "execution_count": 4,
     "metadata": {},
     "output_type": "execute_result"
    },
    {
     "data": {
      "image/png": "[encoded data removed]",
      "text/plain": [
       "<Figure size 576x576 with 1 Axes>"
      ]
     },
     "metadata": {
      "needs_background": "light"
     },
     "output_type": "display_data"
    }
   ],
   "source": [
    "plt.figure(figsize=(8,8))\n",
    "plt.hist(data['Gender'],rwidth=0.8)\n",
    "plt.title('Distribution of Gender',fontsize=16)\n",
    "plt.xlabel('Gender',fontsize=15)\n",
    "plt.ylabel('Test preparation',fontsize=15)\n",
    "plt.xticks()\n",
    "plt.yticks()"
   ]
  },
  {
   "cell_type": "code",
   "execution_count": 5,
   "id": "0a19224c",
   "metadata": {},
   "outputs": [
    {
     "data": {
      "text/html": [
       "<div>\n",
       "<style scoped>\n",
       "    .dataframe tbody tr th:only-of-type {\n",
       "        vertical-align: middle;\n",
       "    }\n",
       "\n",
       "    .dataframe tbody tr th {\n",
       "        vertical-align: top;\n",
       "    }\n",
       "\n",
       "    .dataframe thead th {\n",
       "        text-align: right;\n",
       "    }\n",
       "</style>\n",
       "<table border=\"1\" class=\"dataframe\">\n",
       "  <thead>\n",
       "    <tr style=\"text-align: right;\">\n",
       "      <th></th>\n",
       "      <th>Total Marks</th>\n",
       "    </tr>\n",
       "  </thead>\n",
       "  <tbody>\n",
       "    <tr>\n",
       "      <th>count</th>\n",
       "      <td>28.000000</td>\n",
       "    </tr>\n",
       "    <tr>\n",
       "      <th>mean</th>\n",
       "      <td>32.321429</td>\n",
       "    </tr>\n",
       "    <tr>\n",
       "      <th>std</th>\n",
       "      <td>12.454520</td>\n",
       "    </tr>\n",
       "    <tr>\n",
       "      <th>min</th>\n",
       "      <td>12.000000</td>\n",
       "    </tr>\n",
       "    <tr>\n",
       "      <th>25%</th>\n",
       "      <td>22.500000</td>\n",
       "    </tr>\n",
       "    <tr>\n",
       "      <th>50%</th>\n",
       "      <td>33.000000</td>\n",
       "    </tr>\n",
       "    <tr>\n",
       "      <th>75%</th>\n",
       "      <td>43.250000</td>\n",
       "    </tr>\n",
       "    <tr>\n",
       "      <th>max</th>\n",
       "      <td>50.000000</td>\n",
       "    </tr>\n",
       "  </tbody>\n",
       "</table>\n",
       "</div>"
      ],
      "text/plain": [
       "       Total Marks\n",
       "count    28.000000\n",
       "mean     32.321429\n",
       "std      12.454520\n",
       "min      12.000000\n",
       "25%      22.500000\n",
       "50%      33.000000\n",
       "75%      43.250000\n",
       "max      50.000000"
      ]
     },
     "execution_count": 5,
     "metadata": {},
     "output_type": "execute_result"
    }
   ],
   "source": [
    "data.describe()"
   ]
  },
  {
   "cell_type": "markdown",
   "id": "7840102c",
   "metadata": {},
   "source": [
    "From the above table it is clear that out of the 28 people in our data there exist 12 female and 16 male .The average of \n",
    "their total marks is 32 and having minimum score and maximum score as 12 and 50 respectively."
   ]
  },
  {
   "cell_type": "markdown",
   "id": "474615a5",
   "metadata": {},
   "source": [
    "2. Check whether the female student and male student scored the same mark"
   ]
  },
  {
   "cell_type": "markdown",
   "id": "d2b81803",
   "metadata": {},
   "source": [
    "H0:The female student and male student scored the same mark\n",
    "H1:The female student and male student scored different mark\n"
   ]
  },
  {
   "cell_type": "code",
   "execution_count": 6,
   "id": "a729f3fd",
   "metadata": {},
   "outputs": [],
   "source": [
    "x=data['Gender']\n",
    "scale=data['Total Marks']"
   ]
  },
  {
   "cell_type": "code",
   "execution_count": 7,
   "id": "4b983667",
   "metadata": {},
   "outputs": [
    {
     "data": {
      "text/plain": [
       "female    16\n",
       "male      12\n",
       "Name: Gender, dtype: int64"
      ]
     },
     "execution_count": 7,
     "metadata": {},
     "output_type": "execute_result"
    }
   ],
   "source": [
    "x.value_counts()"
   ]
  },
  {
   "cell_type": "code",
   "execution_count": 8,
   "id": "17a3be13",
   "metadata": {},
   "outputs": [
    {
     "data": {
      "text/plain": [
       "0     True\n",
       "1    False\n",
       "2    False\n",
       "3    False\n",
       "4    False\n",
       "Name: Gender, dtype: bool"
      ]
     },
     "execution_count": 8,
     "metadata": {},
     "output_type": "execute_result"
    }
   ],
   "source": [
    "cat1=x=='male'\n",
    "cat2=x=='female'\n",
    "cat1.head()"
   ]
  },
  {
   "cell_type": "markdown",
   "id": "e1e6ac5e",
   "metadata": {},
   "source": [
    "To perform the independent samples t-test we can use the 'ttest_ind' function from scipy.stats"
   ]
  },
  {
   "cell_type": "code",
   "execution_count": 10,
   "id": "b1141f61",
   "metadata": {},
   "outputs": [],
   "source": [
    "from scipy.stats import ttest_ind"
   ]
  },
  {
   "cell_type": "code",
   "execution_count": 11,
   "id": "1c6cc7fb",
   "metadata": {},
   "outputs": [
    {
     "data": {
      "text/plain": [
       "Ttest_indResult(statistic=-1.0606601717798212, pvalue=0.2935654028375021)"
      ]
     },
     "execution_count": 11,
     "metadata": {},
     "output_type": "execute_result"
    }
   ],
   "source": [
    "ttest_ind(cat1,cat2)"
   ]
  },
  {
   "cell_type": "markdown",
   "id": "0ea66078",
   "metadata": {},
   "source": [
    "Here the value of T statistic is -1.060 which is less than the table value and the p value is obtained as 0.2935\n",
    "which is less than 0.05 .So we reject the null hypothesis that male and female student scored the same mark and\n",
    "accept the alternative hypothesis that they got different mark."
   ]
  },
  {
   "cell_type": "markdown",
   "id": "0f4b2994",
   "metadata": {},
   "source": [
    "2.Whether the test preparation helps the students"
   ]
  },
  {
   "cell_type": "markdown",
   "id": "344836f9",
   "metadata": {},
   "source": [
    "H0:There is no association between Test preparation and Total marks\n",
    "H1:There is association between Test preparation and Total marks"
   ]
  },
  {
   "cell_type": "code",
   "execution_count": 16,
   "id": "93f18115",
   "metadata": {},
   "outputs": [],
   "source": [
    "from scipy.stats import chi2_contingency"
   ]
  },
  {
   "cell_type": "code",
   "execution_count": 17,
   "id": "7b7387d5",
   "metadata": {},
   "outputs": [],
   "source": [
    "a=data['Test preparation']\n",
    "b=data['Total Marks']"
   ]
  },
  {
   "cell_type": "code",
   "execution_count": 20,
   "id": "c6b85463",
   "metadata": {},
   "outputs": [
    {
     "data": {
      "text/html": [
       "<div>\n",
       "<style scoped>\n",
       "    .dataframe tbody tr th:only-of-type {\n",
       "        vertical-align: middle;\n",
       "    }\n",
       "\n",
       "    .dataframe tbody tr th {\n",
       "        vertical-align: top;\n",
       "    }\n",
       "\n",
       "    .dataframe thead th {\n",
       "        text-align: right;\n",
       "    }\n",
       "</style>\n",
       "<table border=\"1\" class=\"dataframe\">\n",
       "  <thead>\n",
       "    <tr style=\"text-align: right;\">\n",
       "      <th>Test preparation</th>\n",
       "      <th>completed</th>\n",
       "      <th>none</th>\n",
       "    </tr>\n",
       "    <tr>\n",
       "      <th>Gender</th>\n",
       "      <th></th>\n",
       "      <th></th>\n",
       "    </tr>\n",
       "  </thead>\n",
       "  <tbody>\n",
       "    <tr>\n",
       "      <th>female</th>\n",
       "      <td>181</td>\n",
       "      <td>359</td>\n",
       "    </tr>\n",
       "    <tr>\n",
       "      <th>male</th>\n",
       "      <td>131</td>\n",
       "      <td>234</td>\n",
       "    </tr>\n",
       "  </tbody>\n",
       "</table>\n",
       "</div>"
      ],
      "text/plain": [
       "Test preparation  completed  none\n",
       "Gender                           \n",
       "female                  181   359\n",
       "male                    131   234"
      ]
     },
     "execution_count": 20,
     "metadata": {},
     "output_type": "execute_result"
    }
   ],
   "source": [
    "contingency=pd.crosstab(data['Gender'],a,b,aggfunc=sum)\n",
    "contingency"
   ]
  },
  {
   "cell_type": "code",
   "execution_count": 21,
   "id": "4d33f137",
   "metadata": {},
   "outputs": [],
   "source": [
    "chi2, p, dof, expected=chi2_contingency(contingency)"
   ]
  },
  {
   "cell_type": "code",
   "execution_count": 22,
   "id": "f8085ff0",
   "metadata": {},
   "outputs": [
    {
     "name": "stdout",
     "output_type": "stream",
     "text": [
      "The computed chi-square statistics is  0.4424783072568524\n",
      "The computed chi-square p-value is 0.5059287011668497\n",
      "The expected cell counts are [[186.16574586 353.83425414]\n",
      " [125.83425414 239.16574586]]\n",
      "The degrees of freedom are 1\n"
     ]
    }
   ],
   "source": [
    "print('The computed chi-square statistics is ',chi2)\n",
    "print('The computed chi-square p-value is',p)\n",
    "print('The expected cell counts are',expected)\n",
    "print('The degrees of freedom are',dof)"
   ]
  },
  {
   "cell_type": "markdown",
   "id": "89c5ca74",
   "metadata": {},
   "source": [
    "Since the critical value is greater than statistic we reject H0 ie,we accept the alternative that there is association between test preparation and total marks."
   ]
  }
 ],
 "metadata": {
  "kernelspec": {
   "display_name": "Python 3",
   "language": "python",
   "name": "python3"
  },
  "language_info": {
   "codemirror_mode": {
    "name": "ipython",
    "version": 3
   },
   "file_extension": ".py",
   "mimetype": "text/x-python",
   "name": "python",
   "nbconvert_exporter": "python",
   "pygments_lexer": "ipython3",
   "version": "3.8.8"
  }
 },
 "nbformat": 4,
 "nbformat_minor": 5
}
